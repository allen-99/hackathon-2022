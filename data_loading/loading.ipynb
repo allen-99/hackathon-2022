{
 "cells": [
  {
   "cell_type": "code",
   "execution_count": 1,
   "metadata": {
    "collapsed": true,
    "pycharm": {
     "name": "#%%\n"
    }
   },
   "outputs": [],
   "source": [
    "import pandas as pd\n",
    "import numpy as np\n",
    "import sqlite3"
   ]
  },
  {
   "cell_type": "code",
   "execution_count": 9,
   "outputs": [
    {
     "data": {
      "text/plain": "                                                title  \\\nid                                                      \n0                       Гарри Поттер и узник Азкабана   \n1                                        Зелёная миля   \n2                                    Унесенные ветром   \n3   Шерлок Холмс. Все повести и рассказы о сыщике ...   \n4                                        Свита короля   \n\n                                          description  \\\nid                                                      \n0   Гарри взрослеет, и вместе с тем жить в Хогварт...   \n1   Стивен Кинг приглашает читателей в жуткий мир ...   \n2   Роман Маргарет Митчелл вышел в свет в 1936 год...   \n3   Шерлок Холмс – литературный персонаж, созданны...   \n4   Время на исходе. Оказавшись в Университете Пал...   \n\n                                              lib_url  \\\nid                                                      \n0   https://www.livelib.ru/book/1003317448-garri-p...   \n1   https://www.livelib.ru/book/1000966838-zeljona...   \n2   https://www.livelib.ru/book/1003634473-unesenn...   \n3   https://www.livelib.ru/book/1003648088-sherlok...   \n4   https://www.livelib.ru/book/1005935587-svita-k...   \n\n                                            cover_url  \nid                                                     \n0   https://www.livelib.ru/book/1003317448-garri-p...  \n1   https://s1.livelib.ru/boocover/1000966838/o/7d...  \n2   https://s1.livelib.ru/boocover/1003634473/o/3c...  \n3   https://s1.livelib.ru/boocover/1003648088/o/c9...  \n4   https://s1.livelib.ru/boocover/1005935587/o/bd...  ",
      "text/html": "<div>\n<style scoped>\n    .dataframe tbody tr th:only-of-type {\n        vertical-align: middle;\n    }\n\n    .dataframe tbody tr th {\n        vertical-align: top;\n    }\n\n    .dataframe thead th {\n        text-align: right;\n    }\n</style>\n<table border=\"1\" class=\"dataframe\">\n  <thead>\n    <tr style=\"text-align: right;\">\n      <th></th>\n      <th>title</th>\n      <th>description</th>\n      <th>lib_url</th>\n      <th>cover_url</th>\n    </tr>\n    <tr>\n      <th>id</th>\n      <th></th>\n      <th></th>\n      <th></th>\n      <th></th>\n    </tr>\n  </thead>\n  <tbody>\n    <tr>\n      <th>0</th>\n      <td>Гарри Поттер и узник Азкабана</td>\n      <td>Гарри взрослеет, и вместе с тем жить в Хогварт...</td>\n      <td>https://www.livelib.ru/book/1003317448-garri-p...</td>\n      <td>https://www.livelib.ru/book/1003317448-garri-p...</td>\n    </tr>\n    <tr>\n      <th>1</th>\n      <td>Зелёная миля</td>\n      <td>Стивен Кинг приглашает читателей в жуткий мир ...</td>\n      <td>https://www.livelib.ru/book/1000966838-zeljona...</td>\n      <td>https://s1.livelib.ru/boocover/1000966838/o/7d...</td>\n    </tr>\n    <tr>\n      <th>2</th>\n      <td>Унесенные ветром</td>\n      <td>Роман Маргарет Митчелл вышел в свет в 1936 год...</td>\n      <td>https://www.livelib.ru/book/1003634473-unesenn...</td>\n      <td>https://s1.livelib.ru/boocover/1003634473/o/3c...</td>\n    </tr>\n    <tr>\n      <th>3</th>\n      <td>Шерлок Холмс. Все повести и рассказы о сыщике ...</td>\n      <td>Шерлок Холмс – литературный персонаж, созданны...</td>\n      <td>https://www.livelib.ru/book/1003648088-sherlok...</td>\n      <td>https://s1.livelib.ru/boocover/1003648088/o/c9...</td>\n    </tr>\n    <tr>\n      <th>4</th>\n      <td>Свита короля</td>\n      <td>Время на исходе. Оказавшись в Университете Пал...</td>\n      <td>https://www.livelib.ru/book/1005935587-svita-k...</td>\n      <td>https://s1.livelib.ru/boocover/1005935587/o/bd...</td>\n    </tr>\n  </tbody>\n</table>\n</div>"
     },
     "execution_count": 9,
     "metadata": {},
     "output_type": "execute_result"
    }
   ],
   "source": [
    "books = pd.read_csv('CSV\\\\books.csv', index_col=0)\n",
    "books.head()"
   ],
   "metadata": {
    "collapsed": false,
    "pycharm": {
     "name": "#%%\n"
    }
   }
  },
  {
   "cell_type": "code",
   "execution_count": 10,
   "outputs": [
    {
     "data": {
      "text/plain": "                   author\nbook_id                  \n0           Джоан Роулинг\n1             Стивен Кинг\n2        Маргарет Митчелл\n3        Артур Конан Дойл\n4            Нора Сакавич",
      "text/html": "<div>\n<style scoped>\n    .dataframe tbody tr th:only-of-type {\n        vertical-align: middle;\n    }\n\n    .dataframe tbody tr th {\n        vertical-align: top;\n    }\n\n    .dataframe thead th {\n        text-align: right;\n    }\n</style>\n<table border=\"1\" class=\"dataframe\">\n  <thead>\n    <tr style=\"text-align: right;\">\n      <th></th>\n      <th>author</th>\n    </tr>\n    <tr>\n      <th>book_id</th>\n      <th></th>\n    </tr>\n  </thead>\n  <tbody>\n    <tr>\n      <th>0</th>\n      <td>Джоан Роулинг</td>\n    </tr>\n    <tr>\n      <th>1</th>\n      <td>Стивен Кинг</td>\n    </tr>\n    <tr>\n      <th>2</th>\n      <td>Маргарет Митчелл</td>\n    </tr>\n    <tr>\n      <th>3</th>\n      <td>Артур Конан Дойл</td>\n    </tr>\n    <tr>\n      <th>4</th>\n      <td>Нора Сакавич</td>\n    </tr>\n  </tbody>\n</table>\n</div>"
     },
     "execution_count": 10,
     "metadata": {},
     "output_type": "execute_result"
    }
   ],
   "source": [
    "authors = pd.read_csv('CSV\\\\author.csv', index_col=0)\n",
    "genres = pd.read_csv('CSV\\\\genre.csv', index_col=0)\n",
    "tags = pd.read_csv('CSV\\\\tags.csv', index_col=0)\n",
    "authors.head()"
   ],
   "metadata": {
    "collapsed": false,
    "pycharm": {
     "name": "#%%\n"
    }
   }
  },
  {
   "cell_type": "code",
   "execution_count": 15,
   "outputs": [],
   "source": [
    "connection = sqlite3.connect('../book_scrolling/book.db')\n",
    "cursor = connection.cursor()"
   ],
   "metadata": {
    "collapsed": false,
    "pycharm": {
     "name": "#%%\n"
    }
   }
  },
  {
   "cell_type": "code",
   "execution_count": null,
   "outputs": [],
   "source": [
    "# # Заполнение жанров\n",
    "# genre_list = list(set(genres['genre']))\n",
    "# genre_dict = {x: i for i, x in enumerate(genre_list)}\n",
    "#\n",
    "# for g_name, g_id in genre_dict.items():\n",
    "#     print(g_id, g_name)\n",
    "#     sql_insert = f\"INSERT INTO Genre (id, name) VALUES ({g_id}, '{g_name}')\"\n",
    "#     cursor.execute(sql_insert)\n",
    "# connection.commit()"
   ],
   "metadata": {
    "collapsed": false,
    "pycharm": {
     "name": "#%%\n",
     "is_executing": true
    }
   }
  },
  {
   "cell_type": "code",
   "execution_count": null,
   "outputs": [],
   "source": [
    "# # Заполнение авторов\n",
    "# author_list = list(set(authors['author']))\n",
    "# author_dict = {x: i for i, x in enumerate(author_list)}\n",
    "#\n",
    "# for a_name, a_id in author_dict.items():\n",
    "#     print(a_id, a_name)\n",
    "#     sql_insert = f\"INSERT INTO Author (id, name) VALUES ({a_id}, '{a_name}')\"\n",
    "#     cursor.execute(sql_insert)\n",
    "# connection.commit()"
   ],
   "metadata": {
    "collapsed": false,
    "pycharm": {
     "name": "#%%\n",
     "is_executing": true
    }
   }
  },
  {
   "cell_type": "code",
   "execution_count": null,
   "outputs": [],
   "source": [
    "# # Заполнение тегов\n",
    "# tag_list = list(set(tags['tag']))\n",
    "# tag_dict = {x: i for i, x in enumerate(tag_list)}\n",
    "#\n",
    "# for a_name, a_id in tag_dict.items():\n",
    "#     print(a_id, a_name)\n",
    "#     sql_insert = f\"INSERT INTO Tag (id, name) VALUES ({a_id}, '{a_name}')\"\n",
    "#     cursor.execute(sql_insert)\n",
    "# connection.commit()"
   ],
   "metadata": {
    "collapsed": false,
    "pycharm": {
     "name": "#%%\n",
     "is_executing": true
    }
   }
  },
  {
   "cell_type": "code",
   "execution_count": null,
   "outputs": [],
   "source": [
    "# Заполнение книг\n",
    "# id,title,description,lib_url,cover_url\n",
    "\n",
    "# for i, tup in enumerate(books.itertuples()):\n",
    "#     print(tup.title)\n",
    "#     sql_insert = f\"INSERT INTO Book (id, title, description) VALUES ({i}, '{tup.title}', '{tup.description}')\"\n",
    "#     cursor.execute(sql_insert)\n",
    "# connection.commit()"
   ],
   "metadata": {
    "collapsed": false,
    "pycharm": {
     "name": "#%%\n",
     "is_executing": true
    }
   }
  },
  {
   "cell_type": "code",
   "execution_count": 42,
   "outputs": [],
   "source": [
    "# Жанр-книга\n",
    "# new_genres = genres.reset_index()\n",
    "# for tup in new_genres.itertuples():\n",
    "#     sql_insert = f\"INSERT INTO Book_Genre (book_id, genre_id) VALUES ({tup.book_id}, {genre_dict[tup.genre]})\"\n",
    "#     cursor.execute(sql_insert)\n",
    "# connection.commit()"
   ],
   "metadata": {
    "collapsed": false,
    "pycharm": {
     "name": "#%%\n"
    }
   }
  },
  {
   "cell_type": "code",
   "execution_count": 47,
   "outputs": [],
   "source": [
    "# # Автор-книга\n",
    "# new_authors = authors.reset_index()\n",
    "# for tup in new_authors.itertuples():\n",
    "#     sql_insert = f\"INSERT INTO Book_Author (book_id, author_id) VALUES ({tup.book_id}, {author_dict[tup.author]})\"\n",
    "#     cursor.execute(sql_insert)\n",
    "# connection.commit()"
   ],
   "metadata": {
    "collapsed": false,
    "pycharm": {
     "name": "#%%\n"
    }
   }
  },
  {
   "cell_type": "code",
   "execution_count": 48,
   "outputs": [],
   "source": [
    "# Тег-книга\n",
    "new_tags = tags.reset_index()\n",
    "for tup in new_tags.itertuples():\n",
    "    sql_insert = f\"INSERT INTO Book_Tag (book_id, tag_id) VALUES ({tup.book_id}, {tag_dict[tup.tag]})\"\n",
    "    cursor.execute(sql_insert)\n",
    "connection.commit()"
   ],
   "metadata": {
    "collapsed": false,
    "pycharm": {
     "name": "#%%\n"
    }
   }
  }
 ],
 "metadata": {
  "kernelspec": {
   "display_name": "Python 3",
   "language": "python",
   "name": "python3"
  },
  "language_info": {
   "codemirror_mode": {
    "name": "ipython",
    "version": 2
   },
   "file_extension": ".py",
   "mimetype": "text/x-python",
   "name": "python",
   "nbconvert_exporter": "python",
   "pygments_lexer": "ipython2",
   "version": "2.7.6"
  }
 },
 "nbformat": 4,
 "nbformat_minor": 0
}